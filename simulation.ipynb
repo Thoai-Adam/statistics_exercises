{
 "cells": [
  {
   "cell_type": "code",
   "execution_count": 10,
   "id": "14157423",
   "metadata": {},
   "outputs": [
    {
     "data": {
      "application/javascript": [
       "IPython.notebook.set_autosave_interval(0)"
      ]
     },
     "metadata": {},
     "output_type": "display_data"
    },
    {
     "name": "stdout",
     "output_type": "stream",
     "text": [
      "Autosave disabled\n"
     ]
    }
   ],
   "source": [
    "%autosave 0"
   ]
  },
  {
   "cell_type": "code",
   "execution_count": 11,
   "id": "e7ffefe0",
   "metadata": {},
   "outputs": [],
   "source": [
    "import numpy as np\n",
    "import pandas as pd\n",
    "import matplotlib.pyplot as plt\n",
    "np.random.seed()"
   ]
  },
  {
   "cell_type": "code",
   "execution_count": 12,
   "id": "d9bfaed3",
   "metadata": {},
   "outputs": [],
   "source": [
    "rng = np.random.default_rng(seed = 42)\n",
    "#default_rng "
   ]
  },
  {
   "cell_type": "code",
   "execution_count": null,
   "id": "91401b57",
   "metadata": {},
   "outputs": [],
   "source": []
  },
  {
   "cell_type": "markdown",
   "id": "d88bc9a4",
   "metadata": {},
   "source": [
    "How likely is it that you roll doubles when rolling two dice?\n"
   ]
  },
  {
   "cell_type": "code",
   "execution_count": 25,
   "id": "dcf70017",
   "metadata": {},
   "outputs": [
    {
     "data": {
      "text/plain": [
       "array([[4, 3],\n",
       "       [1, 2],\n",
       "       [6, 3],\n",
       "       [1, 5],\n",
       "       [5, 1]])"
      ]
     },
     "execution_count": 25,
     "metadata": {},
     "output_type": "execute_result"
    }
   ],
   "source": [
    "\n",
    "rolled=rng.choice([1,2,3,4,5,6],(36,2))\n",
    "rolled[:5]"
   ]
  },
  {
   "cell_type": "code",
   "execution_count": 14,
   "id": "eb461ecb",
   "metadata": {},
   "outputs": [
    {
     "data": {
      "text/plain": [
       "0.1388888888888889"
      ]
     },
     "execution_count": 14,
     "metadata": {},
     "output_type": "execute_result"
    }
   ],
   "source": [
    "row = 36\n",
    "proportion=((rolled[:,0] == rolled[:,1]).sum())/row\n",
    "proportion"
   ]
  },
  {
   "cell_type": "markdown",
   "id": "cf40ae33",
   "metadata": {},
   "source": [
    "If you flip 8 coins, what is the probability of getting exactly 3 heads? "
   ]
  },
  {
   "cell_type": "code",
   "execution_count": 15,
   "id": "f758803e",
   "metadata": {},
   "outputs": [
    {
     "data": {
      "text/plain": [
       "array([[0, 0, 1, ..., 0, 1, 1],\n",
       "       [1, 0, 0, ..., 1, 0, 0],\n",
       "       [1, 1, 0, ..., 0, 1, 0],\n",
       "       ...,\n",
       "       [1, 1, 0, ..., 1, 1, 1],\n",
       "       [1, 0, 1, ..., 1, 0, 0],\n",
       "       [1, 1, 0, ..., 0, 0, 0]])"
      ]
     },
     "execution_count": 15,
     "metadata": {},
     "output_type": "execute_result"
    }
   ],
   "source": [
    "#0 is tail, 1 is head\n",
    "flips = rng.choice([0,1], (1_000,8))\n",
    "flips"
   ]
  },
  {
   "cell_type": "code",
   "execution_count": 16,
   "id": "9d048306",
   "metadata": {},
   "outputs": [
    {
     "data": {
      "text/plain": [
       "array([3, 4, 5, 4, 6])"
      ]
     },
     "execution_count": 16,
     "metadata": {},
     "output_type": "execute_result"
    }
   ],
   "source": [
    "flips_sum = flips.sum(axis=1)\n",
    "flips_sum[:5]"
   ]
  },
  {
   "cell_type": "code",
   "execution_count": 17,
   "id": "64e143f8",
   "metadata": {},
   "outputs": [
    {
     "data": {
      "text/plain": [
       "214"
      ]
     },
     "execution_count": 17,
     "metadata": {},
     "output_type": "execute_result"
    }
   ],
   "source": [
    "(flips_sum==3).sum()  #every time you flip 8 coins, you get 3 head\n"
   ]
  },
  {
   "cell_type": "code",
   "execution_count": 18,
   "id": "f0b0e346",
   "metadata": {},
   "outputs": [
    {
     "data": {
      "text/plain": [
       "0.214"
      ]
     },
     "execution_count": 18,
     "metadata": {},
     "output_type": "execute_result"
    }
   ],
   "source": [
    "\n",
    "propo=((flips_sum==3).sum()/1000)\n",
    "propo"
   ]
  },
  {
   "cell_type": "code",
   "execution_count": 19,
   "id": "46f4705b",
   "metadata": {},
   "outputs": [
    {
     "data": {
      "text/plain": [
       "622"
      ]
     },
     "execution_count": 19,
     "metadata": {},
     "output_type": "execute_result"
    }
   ],
   "source": [
    "#What is the probability of getting more than 3 heads?\n",
    "more_than_three_heads=((flips_sum>3).sum())\n",
    "more_than_three_heads"
   ]
  },
  {
   "cell_type": "code",
   "execution_count": 20,
   "id": "e07b027d",
   "metadata": {},
   "outputs": [
    {
     "data": {
      "text/plain": [
       "0.622"
      ]
     },
     "execution_count": 20,
     "metadata": {},
     "output_type": "execute_result"
    }
   ],
   "source": [
    "\n",
    "more_than_three_heads=((flips_sum>3).sum()/1000)\n",
    "more_than_three_heads"
   ]
  },
  {
   "cell_type": "markdown",
   "id": "cef6aebc",
   "metadata": {},
   "source": [
    "There are approximitely 3 web development cohorts for every 1 data science cohort at Codeup. Assuming that Codeup randomly selects an alumni to put on a billboard, what are the probability that the two billboards I drive past both have data science students on them?"
   ]
  },
  {
   "cell_type": "code",
   "execution_count": 21,
   "id": "5d61a315",
   "metadata": {},
   "outputs": [
    {
     "data": {
      "text/plain": [
       "0.28302400000000005"
      ]
     },
     "execution_count": 21,
     "metadata": {},
     "output_type": "execute_result"
    }
   ],
   "source": [
    "\n",
    "# Generate distributions for web development and data science cohorts\n",
    "wd_co = rng.normal(loc=3, scale=1, size=1000)\n",
    "ds_co = rng.normal(loc=1, scale=1, size=1000)\n",
    "# Calculate the probability of randomly selecting a data science student for each billboard\n",
    "probability_ds_billboard1 = np.sum(ds_co >= 1) / len(ds_co)\n",
    "probability_ds_billboard2 = np.sum(ds_co >= 1) / len(ds_co)\n",
    "\n",
    "# Probability that both billboards have data science students\n",
    "probability_both_ds_billboards = probability_ds_billboard1 * probability_ds_billboard2\n",
    "probability_both_ds_billboards\n"
   ]
  },
  {
   "cell_type": "code",
   "execution_count": null,
   "id": "af5b609a",
   "metadata": {},
   "outputs": [],
   "source": []
  },
  {
   "cell_type": "markdown",
   "id": "d1fe9a56",
   "metadata": {},
   "source": [
    "Codeup students buy, on average, 3 poptart packages with a standard deviation of 1.5 a day from the snack vending machine. If on monday the machine is restocked with 17 poptart packages, how likely is it that I will be able to buy some poptarts on Friday afternoon? (Remember, if you have mean and standard deviation, use the np.random.normal) You'll need to make a judgement call on how to handle some of your values"
   ]
  },
  {
   "cell_type": "code",
   "execution_count": null,
   "id": "7a1d637e",
   "metadata": {},
   "outputs": [],
   "source": []
  },
  {
   "cell_type": "code",
   "execution_count": null,
   "id": "aee775a7",
   "metadata": {},
   "outputs": [],
   "source": [
    "\n",
    "mean_poptarts_per_day = 3\n",
    "std_dev_poptarts_per_day = 1.5\n",
    "restocked_poptarts_on_monday = 17\n",
    "\n",
    "# Calculate the mean and standard deviation for 5 days\n",
    "mean_poptarts_5_days = mean_poptarts_per_day * 5\n",
    "std_dev_poptarts_5_days = std_dev_poptarts_per_day * np.sqrt(5)\n",
    "\n",
    "# Calculate the probability of being able to buy some poptarts on Friday afternoon\n",
    "probability_buy_poptarts_friday = 1 - np.random.normal(loc=mean_poptarts_5_days, scale=std_dev_poptarts_5_days).cdf(restocked_poptarts_on_monday)\n",
    "\n",
    "print(f\"The likelihood of being able to buy some poptarts on Friday afternoon is approximately {probability_buy_poptarts_friday:.2%}\")\n"
   ]
  },
  {
   "cell_type": "markdown",
   "id": "57733da5",
   "metadata": {},
   "source": [
    "Compare Heights\n",
    "\n",
    "Men have an average height of 178 cm and standard deviation of 8cm.\n",
    "Women have a mean of 170, sd = 6cm.\n",
    "Since you have means and standard deviations, you can use np.random.normal to generate observations.\n",
    "If a man and woman are chosen at random, what is the likelihood the woman is taller than the man?"
   ]
  },
  {
   "cell_type": "code",
   "execution_count": 22,
   "id": "aed2f99f",
   "metadata": {},
   "outputs": [
    {
     "name": "stdout",
     "output_type": "stream",
     "text": [
      "The likelihood that a woman is taller than a man is approximately 21.22%\n"
     ]
    }
   ],
   "source": [
    "# Given data\n",
    "mean_height_men = 178\n",
    "std_dev_men = 8\n",
    "mean_height_women = 170\n",
    "std_dev_women = 6\n",
    "\n",
    "# Generate random observations for heights of men and women\n",
    "heights_men = np.random.normal(loc=mean_height_men, scale=std_dev_men, size=100000)\n",
    "heights_women = np.random.normal(loc=mean_height_women, scale=std_dev_women, size=100000)\n",
    "\n",
    "# Calculate the probability that a woman is taller than a man\n",
    "probability_woman_taller = np.mean(heights_women > heights_men)\n",
    "\n",
    "print(f\"The likelihood that a woman is taller than a man is approximately {probability_woman_taller:.2%}\")\n"
   ]
  },
  {
   "cell_type": "markdown",
   "id": "fa721a9c",
   "metadata": {},
   "source": [
    "\n",
    "What is the probability that we observe an installation issue within the first 150 students that download anaconda?\n",
    "\n",
    "n=150"
   ]
  },
  {
   "cell_type": "markdown",
   "id": "86a0b491",
   "metadata": {},
   "source": [
    "How likely is it that 450 students all download anaconda without an issue?\n",
    "\n",
    "\n",
    "\n"
   ]
  },
  {
   "cell_type": "markdown",
   "id": "fce26354",
   "metadata": {},
   "source": [
    "\n",
    "There's a 70% chance on any given day that there will be at least one food truck at Travis Park. However, you haven't seen a food truck there in 3 days. How unlikely is this?"
   ]
  },
  {
   "cell_type": "code",
   "execution_count": 24,
   "id": "f6b9d64d",
   "metadata": {},
   "outputs": [
    {
     "data": {
      "text/plain": [
       "array([[0.19584913, 0.5830939 , 0.73174074, ..., 0.6109273 , 0.57265114,\n",
       "        0.8765419 ],\n",
       "       [0.51684397, 0.80814468, 0.83759312, ..., 0.44996212, 0.75246845,\n",
       "        0.87444671],\n",
       "       [0.54113154, 0.82812348, 0.62820609, ..., 0.13688043, 0.76611939,\n",
       "        0.74786739],\n",
       "       ...,\n",
       "       [0.48337291, 0.83585508, 0.13482723, ..., 0.92956135, 0.03390944,\n",
       "        0.42855636],\n",
       "       [0.22272309, 0.53687883, 0.65569468, ..., 0.56553088, 0.28488713,\n",
       "        0.15274867],\n",
       "       [0.62207147, 0.97344635, 0.33502206, ..., 0.91058887, 0.53474437,\n",
       "        0.71206136]])"
      ]
     },
     "execution_count": 24,
     "metadata": {},
     "output_type": "execute_result"
    }
   ],
   "source": [
    "\n"
   ]
  },
  {
   "cell_type": "markdown",
   "id": "825a302f",
   "metadata": {},
   "source": [
    "How likely is it that a food truck will show up sometime this week?"
   ]
  },
  {
   "cell_type": "markdown",
   "id": "04d22c1b",
   "metadata": {},
   "source": [
    "If 23 people are in the same room, what are the odds that two of them share a birthday? What if it's 20 people? 40?"
   ]
  },
  {
   "cell_type": "code",
   "execution_count": null,
   "id": "925f88e1",
   "metadata": {},
   "outputs": [],
   "source": []
  }
 ],
 "metadata": {
  "kernelspec": {
   "display_name": "Python 3 (ipykernel)",
   "language": "python",
   "name": "python3"
  },
  "language_info": {
   "codemirror_mode": {
    "name": "ipython",
    "version": 3
   },
   "file_extension": ".py",
   "mimetype": "text/x-python",
   "name": "python",
   "nbconvert_exporter": "python",
   "pygments_lexer": "ipython3",
   "version": "3.10.9"
  }
 },
 "nbformat": 4,
 "nbformat_minor": 5
}
