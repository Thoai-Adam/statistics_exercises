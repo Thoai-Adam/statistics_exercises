{
 "cells": [
  {
   "cell_type": "code",
   "execution_count": null,
   "id": "14157423",
   "metadata": {},
   "outputs": [],
   "source": [
    "%autosave 0"
   ]
  },
  {
   "cell_type": "code",
   "execution_count": 11,
   "id": "e7ffefe0",
   "metadata": {},
   "outputs": [],
   "source": [
    "import numpy as np\n",
    "import pandas as pd\n",
    "import matplotlib.pyplot as plt\n",
    "np.random.seed()"
   ]
  },
  {
   "cell_type": "code",
   "execution_count": 12,
   "id": "d9bfaed3",
   "metadata": {},
   "outputs": [],
   "source": [
    "rng = np.random.default_rng(seed = 42)\n",
    "#default_rng "
   ]
  },
  {
   "cell_type": "code",
   "execution_count": null,
   "id": "91401b57",
   "metadata": {},
   "outputs": [],
   "source": []
  },
  {
   "cell_type": "markdown",
   "id": "d88bc9a4",
   "metadata": {},
   "source": [
    "How likely is it that you roll doubles when rolling two dice?\n"
   ]
  },
  {
   "cell_type": "code",
   "execution_count": 24,
   "id": "dcf70017",
   "metadata": {},
   "outputs": [
    {
     "data": {
      "text/plain": [
       "array([[6, 6],\n",
       "       [1, 2],\n",
       "       [5, 1],\n",
       "       [6, 2],\n",
       "       [6, 2],\n",
       "       [3, 4],\n",
       "       [1, 4],\n",
       "       [4, 5],\n",
       "       [6, 4],\n",
       "       [3, 3],\n",
       "       [3, 5],\n",
       "       [2, 2],\n",
       "       [3, 1],\n",
       "       [1, 1],\n",
       "       [5, 5],\n",
       "       [5, 3],\n",
       "       [5, 1],\n",
       "       [6, 4],\n",
       "       [6, 1],\n",
       "       [3, 5],\n",
       "       [3, 3],\n",
       "       [1, 3],\n",
       "       [2, 2],\n",
       "       [5, 4],\n",
       "       [4, 3],\n",
       "       [6, 1],\n",
       "       [3, 1],\n",
       "       [3, 6],\n",
       "       [3, 6],\n",
       "       [3, 5],\n",
       "       [3, 2],\n",
       "       [5, 6],\n",
       "       [2, 5],\n",
       "       [2, 5],\n",
       "       [5, 3],\n",
       "       [5, 2]])"
      ]
     },
     "execution_count": 24,
     "metadata": {},
     "output_type": "execute_result"
    }
   ],
   "source": [
    "\n",
    "rolled=rng.choice([1,2,3,4,5,6],(36,2))\n",
    "rolled"
   ]
  },
  {
   "cell_type": "code",
   "execution_count": 25,
   "id": "eb461ecb",
   "metadata": {},
   "outputs": [
    {
     "data": {
      "text/plain": [
       "0.19444444444444445"
      ]
     },
     "execution_count": 25,
     "metadata": {},
     "output_type": "execute_result"
    }
   ],
   "source": [
    "row = 36\n",
    "proportion=((rolled[:,0] == rolled[:,1]).sum())/row\n",
    "proportion"
   ]
  },
  {
   "cell_type": "markdown",
   "id": "cf40ae33",
   "metadata": {},
   "source": [
    "If you flip 8 coins, what is the probability of getting exactly 3 heads? "
   ]
  },
  {
   "cell_type": "code",
   "execution_count": 29,
   "id": "f758803e",
   "metadata": {},
   "outputs": [
    {
     "data": {
      "text/plain": [
       "array([[1, 1, 1, ..., 1, 0, 0],\n",
       "       [0, 1, 1, ..., 1, 1, 0],\n",
       "       [1, 1, 1, ..., 1, 1, 1],\n",
       "       ...,\n",
       "       [0, 1, 0, ..., 0, 1, 0],\n",
       "       [1, 1, 0, ..., 0, 1, 1],\n",
       "       [0, 1, 1, ..., 0, 0, 1]])"
      ]
     },
     "execution_count": 29,
     "metadata": {},
     "output_type": "execute_result"
    }
   ],
   "source": [
    "#0 is tail, 1 is head\n",
    "flips = rng.choice([0,1], (1_000,8))\n",
    "flips"
   ]
  },
  {
   "cell_type": "code",
   "execution_count": 30,
   "id": "9d048306",
   "metadata": {},
   "outputs": [
    {
     "data": {
      "text/plain": [
       "array([6, 4, 8, 2, 5])"
      ]
     },
     "execution_count": 30,
     "metadata": {},
     "output_type": "execute_result"
    }
   ],
   "source": [
    "flips_sum = flips.sum(axis=1)\n",
    "flips_sum[:5]"
   ]
  },
  {
   "cell_type": "code",
   "execution_count": 32,
   "id": "64e143f8",
   "metadata": {},
   "outputs": [
    {
     "data": {
      "text/plain": [
       "221"
      ]
     },
     "execution_count": 32,
     "metadata": {},
     "output_type": "execute_result"
    }
   ],
   "source": [
    "(flips_sum==3).sum()  #every time you flip 8 coins, you get 3 head\n"
   ]
  },
  {
   "cell_type": "code",
   "execution_count": 33,
   "id": "f0b0e346",
   "metadata": {},
   "outputs": [
    {
     "data": {
      "text/plain": [
       "0.221"
      ]
     },
     "execution_count": 33,
     "metadata": {},
     "output_type": "execute_result"
    }
   ],
   "source": [
    "\n",
    "propo=((flips_sum==3).sum()/1000)\n",
    "propo"
   ]
  },
  {
   "cell_type": "code",
   "execution_count": 34,
   "id": "46f4705b",
   "metadata": {},
   "outputs": [
    {
     "data": {
      "text/plain": [
       "634"
      ]
     },
     "execution_count": 34,
     "metadata": {},
     "output_type": "execute_result"
    }
   ],
   "source": [
    "#What is the probability of getting more than 3 heads?\n",
    "more_than_three_heads=((flips_sum>3).sum())\n",
    "more_than_three_heads"
   ]
  },
  {
   "cell_type": "code",
   "execution_count": 35,
   "id": "e07b027d",
   "metadata": {},
   "outputs": [
    {
     "data": {
      "text/plain": [
       "0.634"
      ]
     },
     "execution_count": 35,
     "metadata": {},
     "output_type": "execute_result"
    }
   ],
   "source": [
    "#What is the probability of getting more than 3 heads?\n",
    "more_than_three_heads=((flips_sum>3).sum()/1000)\n",
    "more_than_three_heads"
   ]
  },
  {
   "cell_type": "markdown",
   "id": "cef6aebc",
   "metadata": {},
   "source": [
    "There are approximitely 3 web development cohorts for every 1 data science cohort at Codeup. Assuming that Codeup randomly selects an alumni to put on a billboard, what are the probability that the two billboards I drive past both have data science students on them?"
   ]
  },
  {
   "cell_type": "code",
   "execution_count": 37,
   "id": "5d61a315",
   "metadata": {},
   "outputs": [
    {
     "data": {
      "text/plain": [
       "0.2304"
      ]
     },
     "execution_count": 37,
     "metadata": {},
     "output_type": "execute_result"
    }
   ],
   "source": [
    "\n",
    "# Generate distributions for web development and data science cohorts\n",
    "wd_co = rng.normal(loc=3, scale=1, size=1000)\n",
    "ds_co = rng.normal(loc=1, scale=1, size=1000)\n",
    "# Calculate the probability of randomly selecting a data science student for each billboard\n",
    "probability_ds_billboard1 = np.sum(ds_co >= 1) / len(ds_co)\n",
    "probability_ds_billboard2 = np.sum(ds_co >= 1) / len(ds_co)\n",
    "\n",
    "# Probability that both billboards have data science students\n",
    "probability_both_ds_billboards = probability_ds_billboard1 * probability_ds_billboard2\n",
    "probability_both_ds_billboards\n"
   ]
  },
  {
   "cell_type": "code",
   "execution_count": null,
   "id": "35e4d569",
   "metadata": {},
   "outputs": [],
   "source": []
  },
  {
   "cell_type": "markdown",
   "id": "86a0b491",
   "metadata": {},
   "source": [
    "\n",
    "\n",
    "Codeup students buy, on average, 3 poptart packages with a standard deviation of 1.5 a day from the snack vending machine. If on monday the machine is restocked with 17 poptart packages, how likely is it that I will be able to buy some poptarts on Friday afternoon? (Remember, if you have mean and standard deviation, use the np.random.normal) You'll need to make a judgement call on how to handle some of your values\n",
    "\n",
    "Compare Heights\n",
    "\n",
    "Men have an average height of 178 cm and standard deviation of 8cm.\n",
    "Women have a mean of 170, sd = 6cm.\n",
    "Since you have means and standard deviations, you can use np.random.normal to generate observations.\n",
    "If a man and woman are chosen at random, what is the likelihood the woman is taller than the man?\n",
    "When installing anaconda on a student's computer, there's a 1 in 250 chance that the download is corrupted and the installation fails. What are the odds that after having 50 students download anaconda, no one has an installation issue? 100 students?\n",
    "\n",
    "What is the probability that we observe an installation issue within the first 150 students that download anaconda?\n",
    "\n",
    "How likely is it that 450 students all download anaconda without an issue?\n",
    "\n",
    "There's a 70% chance on any given day that there will be at least one food truck at Travis Park. However, you haven't seen a food truck there in 3 days. How unlikely is this?\n",
    "\n",
    "How likely is it that a food truck will show up sometime this week?\n",
    "\n",
    "If 23 people are in the same room, what are the odds that two of them share a birthday? What if it's 20 people? 40?"
   ]
  },
  {
   "cell_type": "code",
   "execution_count": null,
   "id": "cbf18615",
   "metadata": {},
   "outputs": [],
   "source": []
  },
  {
   "cell_type": "code",
   "execution_count": null,
   "id": "b4dfb537",
   "metadata": {},
   "outputs": [],
   "source": []
  },
  {
   "cell_type": "code",
   "execution_count": null,
   "id": "2accded4",
   "metadata": {},
   "outputs": [],
   "source": []
  }
 ],
 "metadata": {
  "kernelspec": {
   "display_name": "Python 3 (ipykernel)",
   "language": "python",
   "name": "python3"
  },
  "language_info": {
   "codemirror_mode": {
    "name": "ipython",
    "version": 3
   },
   "file_extension": ".py",
   "mimetype": "text/x-python",
   "name": "python",
   "nbconvert_exporter": "python",
   "pygments_lexer": "ipython3",
   "version": "3.10.9"
  }
 },
 "nbformat": 4,
 "nbformat_minor": 5
}
